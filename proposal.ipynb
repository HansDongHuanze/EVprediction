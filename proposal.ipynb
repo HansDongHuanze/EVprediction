{
 "cells": [
  {
   "cell_type": "markdown",
   "metadata": {},
   "source": [
    "稀疏性对比反映的是不同变换方法在表示信号时所需非零系数的数量差异，其核心在于基函数与信号结构的匹配程度  \n",
    "  \n",
    "稀疏性差异源于基函数与信号的**内积投影效率**。若基函数与信号成分高度相关（如正弦波与DFT基），投影后能量集中于少数系数；若基函数与信号结构不匹配（如全局信号与局部小波），能量被迫分散"
   ]
  },
  {
   "cell_type": "markdown",
   "metadata": {},
   "source": [
    "**数学证明**  \n",
    "***定义信号与假设***  \n",
    "构造一个全局周期性信号，长度为$N$，频率为$f_0=\\frac{k_0}{N}$，持续整个时间范围：  \n",
    "$x[n]=sin(\\frac{2\\pi k_0n}{N}), n=0,1,...,N-1$"
   ]
  },
  {
   "cell_type": "markdown",
   "metadata": {},
   "source": [
    "***DFT的稀疏性分析***  \n",
    "- DFT定义：  \n",
    "$X[k]=\\sum^{N-1}_{n=0}x[n]e^{-j\\frac{2\\pi}{N}kn}$  \n",
    "将正弦信号转换为复指数形式：  \n",
    "$x[n]=\\frac{1}{2j}(e^{j\\frac{2\\pi k_0n}{N}}-e^{-j\\frac{2\\pi k_0n}{N}})$  \n",
    "代入DFT公式：  \n",
    "$X[k]=\\frac{1}{2j}\\sum^{N-1}_{n=0}(e^{j\\frac{2\\pi k_0n}{N}}-e^{-j\\frac{2\\pi k_0n}{N}})e^{-j\\frac{2\\pi kn}{N}}=\\frac{1}{2j}[\\sum^{N-1}_{n=0}e^{j\\frac{2\\pi(k_0-k)n}{N}}-\\sum^{N-1}_{n=0}e^{-j\\frac{2\\pi(k_0+k)n}{N}}]$  \n",
    "利用复指数序列的正交性，对于整数$m$，有：  \n",
    "$\\begin{equation}\n",
    "\\sum^{N-1}_{n=0}e^{j\\frac{2\\pi mn}{N}}=\\left\\{\n",
    "    \\begin{align}\n",
    "    N, & m\\equiv 0 \\mod N\\\\ \n",
    "    0, & others \n",
    "    \\end{align}\n",
    "    \\right.\n",
    "\\end{equation}$\n",
    "- 非零条件：  \n",
    "第一个求和项非零当且仅当$k\\equiv k_0 \\mod N$  \n",
    "第一个求和项非零当且仅当$k\\equiv -k_0 \\mod N$（即$k=N-k_0$）  \n",
    "- 最终的DFT系数：  \n",
    "$\\begin{equation}\n",
    "X[k]=\\left\\{\n",
    "    \\begin{align}\n",
    "    \\frac{N}{2j}, & k=k_0,\\\\\n",
    "    -\\frac{N}{2j}, & k=N-k_0,\\\\\n",
    "    0, & others\n",
    "    \\end{align}\n",
    "    \\right.\n",
    "\\end{equation}$\n",
    "- 稀疏性结论：  \n",
    "DFT仅有 2个非零系数（复数对称），能量完全集中在$k_0$和$N-k_0$处，稀疏性为$O(1)$"
   ]
  },
  {
   "cell_type": "markdown",
   "metadata": {},
   "source": [
    "***DWT的稀疏性分析***  \n",
    "- DWT定义（多分辨率分析）：  \n",
    "信号分解为近似系数（低频）和细节系数（高频）：  \n",
    "$x[n]=\\sum_ka_{J,k}\\phi_{J,k}(n)+\\sum_{j=1}^{J}\\sum_kd_{j,k}\\psi_{j,k}(n)$  \n",
    "其中：  \n",
    "$\\phi_{J,k}(n)$是尺度函数（对应最低频段），支撑区间为$k2^J\\leq n<(k+1)2^J$  \n",
    "$\\psi_{j,k}(n)$是小波函数（对应高频段），具有时频局部性  \n",
    "使用紧支撑小波（如Daubechies小波），支撑长度为$L$  \n",
    "分解层数为$J$，满足$2^J\\leq N$  \n",
    "- DWT对全局周期信号的表示  \n",
    "由于$x[n]$是全局正弦波，其能量均匀分布在所有时间点，而小波基函数$\\phi_{J,k}(n)$和$\\psi_{j,k}(n)$具有局部支撑特性（仅在有限区间非零）。因此，需要多个基函数的组合才能逼近全局信号  \n",
    "- 能量分散的数学推导  \n",
    "以最高尺度（低频近似系数） 为例，尺度函数$\\phi_{J,k}(n)$的支撑长度为$2^J$，覆盖时间区间$[k2^J,(k+1)2^J]$  \n",
    "假设信号频率$f_0$处于低频段（即$f_0\\ll\\frac{1}{2^{J+1}}$），则主要能量集中在近似系数$a_{J,k}$中  \n",
    "$\\begin{equation}\n",
    "a_{J,k}=<x[n],\\phi_{J,k}(n)>=\\sum^{N-1}_{n=0}x[n]\\phi_{J,k}(n)\n",
    "\\end{equation}$\n",
    "由于$\\phi_{J,k}(n)$仅在区间$[k2^J,(k+1)2^J)$非零，每个系数$a_{J,k}$仅捕获信号在该区间的低频成分  \n",
    "- 非零系数数量：  \n",
    "近似系数数量：$\\frac{N}{2^J}$  \n",
    "细节系数数量：$\\sum^J_{j=1}\\frac{N}{2^j}=N(1-\\frac{1}{2^J})$  \n",
    "- 稀疏性：  \n",
    "近似系数数量为$\\frac{N}{2^J}$，细节系数数量为$O(N)$  \n",
    "若仅保留主要低频能量，至少需要$\\frac{N}{2^J}$个近似系数"
   ]
  }
 ],
 "metadata": {
  "kernelspec": {
   "display_name": "EV",
   "language": "python",
   "name": "python3"
  },
  "language_info": {
   "name": "python",
   "version": "3.9.21"
  }
 },
 "nbformat": 4,
 "nbformat_minor": 2
}
